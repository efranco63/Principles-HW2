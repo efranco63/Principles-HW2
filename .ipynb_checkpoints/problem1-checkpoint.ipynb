{
 "metadata": {
  "name": "",
  "signature": "sha256:4619f4e2d4d4fc3192a9c5bd9638af67cb5ab2eeb848524b8a6183bb06e11a02"
 },
 "nbformat": 3,
 "nbformat_minor": 0,
 "worksheets": []
}